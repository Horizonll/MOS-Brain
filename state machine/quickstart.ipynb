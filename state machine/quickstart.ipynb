{
 "cells": [
  {
   "cell_type": "code",
   "execution_count": 3,
   "metadata": {},
   "outputs": [],
   "source": [
    "from transitions import Machine\n",
    "import random\n",
    "\n",
    "states = [\n",
    "    \"find_ball\",\n",
    "    \"chase_ball\",\n",
    "    \"adjust_position\",\n",
    "    \"kick\",\n",
    "]\n",
    "\n",
    "transitions = [\n",
    "    {\n",
    "        \"trigger\": \"run\",\n",
    "        \"source\": \"*\",\n",
    "        \"dest\": \"find_ball\",\n",
    "        \"conditions\": \"no_ball\",\n",
    "        \"after\": \"find_ball\",\n",
    "    },\n",
    "    {\n",
    "        \"trigger\": \"run\",\n",
    "        \"source\": \"find_ball\",\n",
    "        \"dest\": \"chase_ball\",\n",
    "        \"conditions\": \"ball_in_sight\",\n",
    "        \"after\": \"chase_ball\",\n",
    "    },\n",
    "    {\n",
    "        \"trigger\": \"run\",\n",
    "        \"source\": \"chase_ball\",\n",
    "        \"dest\": \"adjust_position\",\n",
    "        \"conditions\": \"close_to_ball\",\n",
    "        \"after\": \"adjust_position\",\n",
    "    },\n",
    "    {\n",
    "        \"trigger\": \"run\",\n",
    "        \"source\": \"adjust_position\",\n",
    "        \"dest\": \"kick\",\n",
    "        \"conditions\": \"ready_to_kick\",\n",
    "        \"after\": \"kick\",\n",
    "    },\n",
    "]\n",
    "\n",
    "\n",
    "class Agent:\n",
    "    def __init__(self):\n",
    "        self.machine = Machine(\n",
    "            model=self, states=states, initial=\"find_ball\", transitions=transitions\n",
    "        )\n",
    "\n",
    "    def find_ball(self):\n",
    "        print(\"Looking for the ball\")\n",
    "\n",
    "    def chase_ball(self):\n",
    "        print(\"Chasing the ball\")\n",
    "\n",
    "    def adjust_position(self):\n",
    "        print(\"Adjusting position\")\n",
    "\n",
    "    def kick(self):\n",
    "        print(\"Kicking the ball\")\n",
    "\n",
    "    def no_ball(self):\n",
    "        return random.random() < 0.05\n",
    "\n",
    "    def ball_in_sight(self):\n",
    "        return random.random() < 0.8\n",
    "\n",
    "    def close_to_ball(self):\n",
    "        return random.random() < 0.8\n",
    "\n",
    "    def ready_to_kick(self):\n",
    "        return random.random() < 0.8\n",
    "\n",
    "    def run(self):\n",
    "        pass"
   ]
  },
  {
   "cell_type": "code",
   "execution_count": 4,
   "metadata": {},
   "outputs": [
    {
     "ename": "KeyboardInterrupt",
     "evalue": "",
     "output_type": "error",
     "traceback": [
      "\u001b[1;31m---------------------------------------------------------------------------\u001b[0m",
      "\u001b[1;31mKeyboardInterrupt\u001b[0m                         Traceback (most recent call last)",
      "Cell \u001b[1;32mIn[4], line 2\u001b[0m\n\u001b[0;32m      1\u001b[0m agent \u001b[38;5;241m=\u001b[39m Agent()\n\u001b[1;32m----> 2\u001b[0m \u001b[38;5;28;01mwhile\u001b[39;00m \u001b[38;5;28;01mTrue\u001b[39;00m:\n\u001b[0;32m      3\u001b[0m     agent\u001b[38;5;241m.\u001b[39mrun()\n\u001b[0;32m      4\u001b[0m     \u001b[38;5;28;01mif\u001b[39;00m agent\u001b[38;5;241m.\u001b[39mstate \u001b[38;5;241m==\u001b[39m \u001b[38;5;124m\"\u001b[39m\u001b[38;5;124mkick\u001b[39m\u001b[38;5;124m\"\u001b[39m:\n",
      "\u001b[1;31mKeyboardInterrupt\u001b[0m: "
     ]
    }
   ],
   "source": [
    "agent = Agent()\n",
    "while True:\n",
    "    agent.run()\n",
    "    if agent.state == \"kick\":\n",
    "        break"
   ]
  }
 ],
 "metadata": {
  "kernelspec": {
   "display_name": "mos",
   "language": "python",
   "name": "python3"
  },
  "language_info": {
   "codemirror_mode": {
    "name": "ipython",
    "version": 3
   },
   "file_extension": ".py",
   "mimetype": "text/x-python",
   "name": "python",
   "nbconvert_exporter": "python",
   "pygments_lexer": "ipython3",
   "version": "3.12.7"
  }
 },
 "nbformat": 4,
 "nbformat_minor": 2
}
