{
 "cells": [
  {
   "cell_type": "code",
   "execution_count": 3,
   "metadata": {},
   "outputs": [
    {
     "name": "stdout",
     "output_type": "stream",
     "text": [
      "48.57633437499736 70.76932762433873\n"
     ]
    },
    {
     "data": {
      "text/plain": [
       "False"
      ]
     },
     "execution_count": 3,
     "metadata": {},
     "output_type": "execute_result"
    }
   ],
   "source": [
    "import math\n",
    "\n",
    "\n",
    "class A:\n",
    "    def __init__(self):\n",
    "        self.pos_x = 3000\n",
    "        self.pos_y = 3000\n",
    "        self.pos_yaw = 0\n",
    "\n",
    "    def good_angel(self):\n",
    "        rad1 = math.atan((self.pos_x - 1300) / (4500 - self.pos_y))\n",
    "        ang_tar1 = rad1 * 180 / math.pi\n",
    "        rad2 = math.atan((self.pos_x + 1300) / (4500 - self.pos_y))\n",
    "        ang_tar2 = rad2 * 180 / math.pi\n",
    "        print(ang_tar1, ang_tar2)\n",
    "        if ang_tar1 < self.pos_yaw < ang_tar2:\n",
    "            return True\n",
    "        else:\n",
    "            self.direction = ang_tar1 > self.pos_yaw\n",
    "            return False\n",
    "\n",
    "\n",
    "A = A()\n",
    "A.good_angel()"
   ]
  }
 ],
 "metadata": {
  "kernelspec": {
   "display_name": "mos",
   "language": "python",
   "name": "python3"
  },
  "language_info": {
   "codemirror_mode": {
    "name": "ipython",
    "version": 3
   },
   "file_extension": ".py",
   "mimetype": "text/x-python",
   "name": "python",
   "nbconvert_exporter": "python",
   "pygments_lexer": "ipython3",
   "version": "3.12.7"
  }
 },
 "nbformat": 4,
 "nbformat_minor": 2
}
